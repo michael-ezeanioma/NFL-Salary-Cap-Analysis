import csv
from pathlib import Path
import matplotlib.pyplot as plt
import pandas as pd
import scipy.stats as st
from scipy.stats import linregress
import numpy as np
from matplotlib import colormaps

nfl_data_to_load = Path('Resources/nfl_salary_by_pos_group.csv')

nfl_data = pd.read_csv(nfl_data_to_load)

#nfl_data.head()
cols = nfl_data.columns
#cols


#x_axis = nfl_data['Team'].unique()
teams = nfl_data.loc[(nfl_data['Playoffs'] == 1, 'W')]
x_axis = teams
winning_qb_pcts = nfl_data.loc[(nfl_data['Playoffs'] == 1, 'QB_P')]
y_axis = winning_qb_pcts


plt.scatter(x_axis, y_axis, c=y_axis, cmap='RdGn')
plt.plot()


# Generate some data
heatmap_data = nfl_data[['Team', 'Season', 'QB_P', 'W']]
#heatmap_data
#data = np.random.rand(10, 10)
columns = ['W', 'QB_P']
data = heatmap_data[columns].to_numpy()

# Create a figure and axes
fig, ax = plt.subplots()

# Create the heatmap
heatmap = ax.imshow(data, cmap='viridis')

# Add a colorbar
plt.colorbar(heatmap)

# Set title and labels
ax.set_title('Heatmap')
ax.set_xlabel('X Label')
ax.set_ylabel('Y Label')

# Show the plot
plt.show()



